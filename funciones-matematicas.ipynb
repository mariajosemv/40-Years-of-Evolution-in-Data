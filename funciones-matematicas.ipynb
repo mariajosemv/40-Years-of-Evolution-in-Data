{
 "cells": [
  {
   "cell_type": "markdown",
   "metadata": {},
   "source": [
    "## Fundamento matemático y estadístico\n",
    "\n",
    "\n",
    "En este notebook se encuentran las definiciones de las funciones que sirven de soporte para el análisis matemático y estadístico. "
   ]
  },
  {
   "cell_type": "markdown",
   "metadata": {},
   "source": [
    "### Función de distribución acumulativa empírica \n",
    "\n",
    "O *Empirical cumulative distribution function* (ECDF) es una función de distribución asociada a la medida empírica de una muestra. En el eje X se ordenan los datos de menor a mayor, y en el eje Y se relaciona la fracción de datos que tienen un valor igual o menor que su correspondiente valor en X. "
   ]
  },
  {
   "cell_type": "code",
   "execution_count": 3,
   "metadata": {},
   "outputs": [],
   "source": [
    "import numpy as np\n",
    "\n",
    "def ecdf(data):\n",
    "    \n",
    "    \"\"\"Compute ECDF for a one-dimensional array of measurements.\"\"\"\n",
    "    # Number of data points: n\n",
    "    n = len(data)\n",
    "\n",
    "    # x-data for the ECDF: x\n",
    "    x = np.sort(data)\n",
    "\n",
    "    # y-data for the ECDF: y\n",
    "    y = np.arange(1, n+1) / n\n",
    "\n",
    "    return x, y"
   ]
  },
  {
   "cell_type": "markdown",
   "metadata": {},
   "source": [
    "### Bootstrap\n",
    "\n",
    "Técnica de remuestreo que consiste en:\n",
    "1. Seleccionar aleatoriamente un elemento del dataset.\n",
    "2. Copiar el valor de este elemento en otro conjunto de muestra. \n",
    "3. Repitir `n` veces los pasos anteriores, donde `n` es el número total de mediciones. \n",
    "\n",
    "En el último conjunto de muestra creado se realizan los cálculos estadísticos de interés, como puede ser la media, la moda, o el promedio. Los valores que se calculan sobre esta muestra son llamados *Bootstrap replicates*. "
   ]
  },
  {
   "cell_type": "code",
   "execution_count": 13,
   "metadata": {},
   "outputs": [],
   "source": [
    "def bootstrap_replicate_1d(data, func):\n",
    "    \"\"\"Generate bootstrap replicate of 1D data.\"\"\"\n",
    "    bs_sample = np.random.choice(data, len(data))\n",
    "    return func(bs_sample)\n",
    "\n",
    "\n",
    "def draw_bs_reps(data, func, size=1):\n",
    "    \"\"\"Draw bootstrap replicates for 1d array\"\"\"\n",
    "\n",
    "    # Initialize array of replicates: bs_replicates\n",
    "    bs_replicates = np.empty(size)\n",
    "\n",
    "    # Generate replicates\n",
    "    for i in range(size):\n",
    "        bs_replicates[i] = bootstrap_replicate_1d(data, func)\n",
    "\n",
    "    return bs_replicates"
   ]
  },
  {
   "cell_type": "markdown",
   "metadata": {},
   "source": [
    "En regresiones lineales (cuyos datos vienen en pares), el método Bootstrap se aplica de la siguiente manera: \n",
    "\n",
    "1. Seleccionar aleatoriamente el par de datos X y Y.\n",
    "2. Calcular la pendiente y el punto de corte para X y Y. \n",
    "\n",
    "Por lo tanto, cada pendiente y punto de corte calculado es un *Bootstrap replicate*. "
   ]
  },
  {
   "cell_type": "code",
   "execution_count": 10,
   "metadata": {},
   "outputs": [],
   "source": [
    "def draw_bs_pairs_linreg(x, y, size=1):\n",
    "    \"\"\"Perform pairs bootstrap for linear regression.\"\"\"\n",
    "\n",
    "    # Set up array of indices to sample from: inds\n",
    "    inds = np.arange(0, len(x))\n",
    "\n",
    "    # Initialize replicates: bs_slope_reps, bs_intercept_reps\n",
    "    bs_slope_reps = np.empty(size)\n",
    "    bs_intercept_reps = np.empty(size)\n",
    "\n",
    "    # Generate replicates\n",
    "    for i in range(size):\n",
    "        bs_inds = np.random.choice(inds, size=len(inds))\n",
    "        bs_x, bs_y = np.array(x)[bs_inds], np.array(y)[bs_inds]\n",
    "        bs_slope_reps[i], bs_intercept_reps[i] = np.polyfit(bs_x, bs_y, deg=1)\n",
    "\n",
    "    return bs_slope_reps, bs_intercept_reps"
   ]
  },
  {
   "cell_type": "markdown",
   "metadata": {},
   "source": [
    "\n",
    "Una propiedad útil del método bootstrap es que los percentiles de los *bootstrap replicates* son equivalentes al intervalo de confianza, y pueden ser calculados con la función `np.percentile()`. A partir de estos intervalos, se definen los límites superiores e inferiores del rango de valores que pueden tomar los parámetros calculados si se repiten las mediciones muchas veces. "
   ]
  }
 ],
 "metadata": {
  "kernelspec": {
   "display_name": "Python 3",
   "language": "python",
   "name": "python3"
  },
  "language_info": {
   "codemirror_mode": {
    "name": "ipython",
    "version": 3
   },
   "file_extension": ".py",
   "mimetype": "text/x-python",
   "name": "python",
   "nbconvert_exporter": "python",
   "pygments_lexer": "ipython3",
   "version": "3.7.6"
  }
 },
 "nbformat": 4,
 "nbformat_minor": 4
}
